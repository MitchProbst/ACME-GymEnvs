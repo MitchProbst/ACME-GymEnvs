{
 "cells": [
  {
   "cell_type": "markdown",
   "metadata": {},
   "source": [
    "    Mitchell Probst\n",
    "    Math 439\n",
    "    Inverted Pendulum"
   ]
  },
  {
   "cell_type": "code",
   "execution_count": 1,
   "metadata": {},
   "outputs": [],
   "source": [
    "import numpy as np\n",
    "\n",
    "import gym\n",
    "import acme_gym\n",
    "\n",
    "from matplotlib import pyplot as plt\n",
    "from scipy.optimize import root\n",
    "from scipy import linalg\n",
    "from scipy.integrate import odeint"
   ]
  },
  {
   "cell_type": "markdown",
   "metadata": {},
   "source": [
    "# Problem 1"
   ]
  },
  {
   "cell_type": "code",
   "execution_count": 2,
   "metadata": {
    "collapsed": true
   },
   "outputs": [],
   "source": [
    "g = 9.8\n",
    "\n",
    "def linearized_init(M, m, l, q1, q2, q3, q4, r):\n",
    "    \"\"\"\n",
    "    Parameters\n",
    "    ----------\n",
    "    M, m: floats\n",
    "        masses of the rickshaw and the present\n",
    "    l   : float\n",
    "        length of the rod\n",
    "    q1, q2, q3, q4, r : floats\n",
    "        relative weights of the position and velocity of the rickshaw, the\n",
    "        angular displacement theta and the change in theta, and the control\n",
    "        \n",
    "    Return\n",
    "    ------\n",
    "    A : ndarray of shape (4,4)\n",
    "    B : ndarray of shape (4,1)\n",
    "    Q : ndarray of shape (4,4)\n",
    "    R : ndarray of shape (1,1)\n",
    "    \"\"\"\n",
    "#     A = np.zeros((4,4))\n",
    "#     A[0,1] = 1\n",
    "#     A[1,2] = m*g/M\n",
    "#     A[2,3] = 1\n",
    "#     A[3,2] = g/(M*l)*(M + m)\n",
    "    \n",
    "#     B = np.zeros((4,1))\n",
    "#     B[1] = 1/M\n",
    "#     B[3] = 1/(M*l)\n",
    "\n",
    "    A = np.zeros((4,4))\n",
    "    A[0,1] = 1\n",
    "    A[2,3] = 1\n",
    "    \n",
    "    B = np.zeros((4,1))\n",
    "    B[1] = (1 - m/(1/3 * (4*M + m)))/(M + m)\n",
    "    B[3] = -1 / (l/3 * (4*M + m))\n",
    "    \n",
    "    Q = np.diag([q1, q2, q3, q4])\n",
    "    \n",
    "    R = np.ones(1)*r\n",
    "    \n",
    "    return A,B,Q,R"
   ]
  },
  {
   "cell_type": "markdown",
   "metadata": {},
   "source": [
    "# Problem 2"
   ]
  },
  {
   "cell_type": "code",
   "execution_count": 3,
   "metadata": {
    "collapsed": true
   },
   "outputs": [],
   "source": [
    "def find_P(A, B, Q, R):\n",
    "    \"\"\"\n",
    "    Find P where P is in terms of the Riccati equation\n",
    "    \n",
    "    Parameters\n",
    "    ----------\n",
    "    A : ndarray of shape (4,4)\n",
    "    B : ndarray of shape (4,1)\n",
    "    Q : ndarray of shape (4,4)\n",
    "    R : ndarray of shape (1,1)\n",
    "    \n",
    "    Returns\n",
    "    -------\n",
    "    P : Matrix soloution of the Riccati equation\n",
    "    \"\"\"\n",
    "    def root_func(p):\n",
    "        \"\"\"\n",
    "        Gets passed a vector of ps\n",
    "        \"\"\"\n",
    "        P = np.reshape(p, (4,4))\n",
    "        return np.reshape(P @ A + A.T @ P + Q - 1/R * (P @ B @ B.T @ P), -1)\n",
    "    \n",
    "    # Initial Guess for P\n",
    "    P = np.ones(16)\n",
    "    P = root(root_func, P)\n",
    "    return np.reshape(P.x, (4,4))"
   ]
  },
  {
   "cell_type": "code",
   "execution_count": 9,
   "metadata": {},
   "outputs": [
    {
     "data": {
      "text/plain": [
       "array([[ 1.,  1.,  1.,  1.],\n",
       "       [ 1.,  1.,  1.,  1.],\n",
       "       [ 1.,  1.,  1.,  1.],\n",
       "       [ 1.,  1.,  1.,  1.]])"
      ]
     },
     "execution_count": 9,
     "metadata": {},
     "output_type": "execute_result"
    }
   ],
   "source": [
    "# Mass of cart and masspole\n",
    "M, m = 1, .1\n",
    "l = 4.\n",
    "q1, q2, q3, q4 = 1., 1., 1., 1.\n",
    "r = 10.\n",
    "A,B,Q,R = linearized_init(M, m, l, q1, q2, q3, q4, r)\n",
    "P = find_P(A,B,Q,R)\n",
    "P"
   ]
  },
  {
   "cell_type": "code",
   "execution_count": 5,
   "metadata": {},
   "outputs": [
    {
     "data": {
      "text/plain": [
       "array([ -2.17565917e-02 +2.07460440e-01j,\n",
       "        -2.17565917e-02 -2.07460440e-01j,\n",
       "         1.03314365e-18 +1.05062150e-09j,   1.03314365e-18 -1.05062150e-09j])"
      ]
     },
     "execution_count": 5,
     "metadata": {},
     "output_type": "execute_result"
    }
   ],
   "source": [
    "result = A - 1/R[0] * B @ B.T @ P\n",
    "eigs = np.linalg.eig(result)\n",
    "eigs[0]"
   ]
  },
  {
   "cell_type": "markdown",
   "metadata": {},
   "source": [
    "We see that we have one real eigenvalue, which indicates this problem might be unstable!"
   ]
  },
  {
   "cell_type": "code",
   "execution_count": 6,
   "metadata": {},
   "outputs": [
    {
     "data": {
      "text/plain": [
       "array([ -3.87480748e-01+0.34950984j,  -3.87480748e-01-0.34950984j,\n",
       "         6.84565144e-03+0.j        ,   9.78667815e-07+0.j        ])"
      ]
     },
     "execution_count": 6,
     "metadata": {},
     "output_type": "execute_result"
    }
   ],
   "source": [
    "newP = linalg.solve_continuous_are(A,B,Q,R)\n",
    "result = A - 1/R[0] * B @ B.T @ newP\n",
    "eigs = np.linalg.eig(result)\n",
    "eigs[0]"
   ]
  },
  {
   "cell_type": "markdown",
   "metadata": {},
   "source": [
    "Using this fancy method, we see that all of our eigenvalues are negative"
   ]
  },
  {
   "cell_type": "markdown",
   "metadata": {},
   "source": [
    "# Problem 3"
   ]
  },
  {
   "cell_type": "code",
   "execution_count": 7,
   "metadata": {
    "collapsed": true
   },
   "outputs": [],
   "source": [
    "def rickshaw(tv, X0, A, B, Q, R, P):\n",
    "    '''\n",
    "    Parameters:\n",
    "    ----------\n",
    "    tv  : ndarray of time values, with shape (n+1,)\n",
    "    X0  : Initial conditions on state variables\n",
    "    A, Q: ndarrays of shape (4,4)\n",
    "    B   : ndarray of shape (4,1)\n",
    "    R   : ndarray of shape (1,1)\n",
    "    P   : ndarray of shape (4,4)\n",
    "    Returns\n",
    "    -------\n",
    "    Z : ndarray of shape (n+1,4), the state vector at each time\n",
    "    U : ndarray of shape (n+1,), the control values\n",
    "    '''\n",
    "    n = np.shape(tv)[0]\n",
    "    Z = np.zeros((n, 4))\n",
    "    U = np.zeros((n))\n",
    "    \n",
    "    def find_z(z, t):\n",
    "        return (A - 1/R * B @ B.T @ P) @ z\n",
    "\n",
    "    Z = odeint(find_z, X0, tv)\n",
    "    for t in range(n):\n",
    "        U[t] = -1/R * B.T @ P @ Z[t]\n",
    "        \n",
    "    return Z, U"
   ]
  },
  {
   "cell_type": "markdown",
   "metadata": {},
   "source": [
    "# Problem 4"
   ]
  },
  {
   "cell_type": "code",
   "execution_count": 8,
   "metadata": {},
   "outputs": [
    {
     "ename": "LinAlgError",
     "evalue": "Failed to find a finite solution.",
     "output_type": "error",
     "traceback": [
      "\u001b[1;31m---------------------------------------------------------------------------\u001b[0m",
      "\u001b[1;31mLinAlgError\u001b[0m                               Traceback (most recent call last)",
      "\u001b[1;32m<ipython-input-8-9fe0c76b340c>\u001b[0m in \u001b[0;36m<module>\u001b[1;34m()\u001b[0m\n\u001b[0;32m     24\u001b[0m \u001b[1;33m\u001b[0m\u001b[0m\n\u001b[0;32m     25\u001b[0m \u001b[1;31m# Solve the problem to get a \"good\" P value\u001b[0m\u001b[1;33m\u001b[0m\u001b[1;33m\u001b[0m\u001b[0m\n\u001b[1;32m---> 26\u001b[1;33m \u001b[0msp_P\u001b[0m \u001b[1;33m=\u001b[0m \u001b[0mlinalg\u001b[0m\u001b[1;33m.\u001b[0m\u001b[0msolve_continuous_are\u001b[0m\u001b[1;33m(\u001b[0m\u001b[0mA\u001b[0m\u001b[1;33m,\u001b[0m\u001b[0mB\u001b[0m\u001b[1;33m,\u001b[0m\u001b[0mQ\u001b[0m\u001b[1;33m,\u001b[0m\u001b[0mR\u001b[0m\u001b[1;33m)\u001b[0m\u001b[1;33m\u001b[0m\u001b[0m\n\u001b[0m\u001b[0;32m     27\u001b[0m \u001b[0msp_ts\u001b[0m \u001b[1;33m=\u001b[0m \u001b[0mnp\u001b[0m\u001b[1;33m.\u001b[0m\u001b[0mlinspace\u001b[0m\u001b[1;33m(\u001b[0m\u001b[1;36m0\u001b[0m\u001b[1;33m,\u001b[0m\u001b[0mtf2\u001b[0m\u001b[1;33m,\u001b[0m\u001b[0mN\u001b[0m\u001b[1;33m)\u001b[0m\u001b[1;33m\u001b[0m\u001b[0m\n\u001b[0;32m     28\u001b[0m \u001b[0mspZ\u001b[0m\u001b[1;33m,\u001b[0m \u001b[0mspU\u001b[0m \u001b[1;33m=\u001b[0m \u001b[0mrickshaw\u001b[0m\u001b[1;33m(\u001b[0m\u001b[0msp_ts\u001b[0m\u001b[1;33m,\u001b[0m \u001b[0mX0\u001b[0m\u001b[1;33m,\u001b[0m \u001b[0mA\u001b[0m\u001b[1;33m,\u001b[0m \u001b[0mB\u001b[0m\u001b[1;33m,\u001b[0m \u001b[0mQ\u001b[0m\u001b[1;33m,\u001b[0m \u001b[0mR\u001b[0m\u001b[1;33m,\u001b[0m \u001b[0msp_P\u001b[0m\u001b[1;33m)\u001b[0m\u001b[1;33m\u001b[0m\u001b[0m\n",
      "\u001b[1;32mC:\\Anaconda3\\lib\\site-packages\\scipy\\linalg\\_solvers.py\u001b[0m in \u001b[0;36msolve_continuous_are\u001b[1;34m(a, b, q, r, e, s, balanced)\u001b[0m\n\u001b[0;32m    393\u001b[0m     \u001b[0mup\u001b[0m\u001b[1;33m,\u001b[0m \u001b[0mul\u001b[0m\u001b[1;33m,\u001b[0m \u001b[0muu\u001b[0m \u001b[1;33m=\u001b[0m \u001b[0mlu\u001b[0m\u001b[1;33m(\u001b[0m\u001b[0mu00\u001b[0m\u001b[1;33m)\u001b[0m\u001b[1;33m\u001b[0m\u001b[0m\n\u001b[0;32m    394\u001b[0m     \u001b[1;32mif\u001b[0m \u001b[1;36m1\u001b[0m\u001b[1;33m/\u001b[0m\u001b[0mcond\u001b[0m\u001b[1;33m(\u001b[0m\u001b[0muu\u001b[0m\u001b[1;33m)\u001b[0m \u001b[1;33m<\u001b[0m \u001b[0mnp\u001b[0m\u001b[1;33m.\u001b[0m\u001b[0mspacing\u001b[0m\u001b[1;33m(\u001b[0m\u001b[1;36m1.\u001b[0m\u001b[1;33m)\u001b[0m\u001b[1;33m:\u001b[0m\u001b[1;33m\u001b[0m\u001b[0m\n\u001b[1;32m--> 395\u001b[1;33m         \u001b[1;32mraise\u001b[0m \u001b[0mLinAlgError\u001b[0m\u001b[1;33m(\u001b[0m\u001b[1;34m'Failed to find a finite solution.'\u001b[0m\u001b[1;33m)\u001b[0m\u001b[1;33m\u001b[0m\u001b[0m\n\u001b[0m\u001b[0;32m    396\u001b[0m \u001b[1;33m\u001b[0m\u001b[0m\n\u001b[0;32m    397\u001b[0m     \u001b[1;31m# Exploit the triangular structure\u001b[0m\u001b[1;33m\u001b[0m\u001b[1;33m\u001b[0m\u001b[0m\n",
      "\u001b[1;31mLinAlgError\u001b[0m: Failed to find a finite solution."
     ]
    }
   ],
   "source": [
    "env = gym.make('CartPoleContinuous-v0')\n",
    "#env.seed(1)\n",
    "#env.theta_threshold_radians = 45 * np.pi / 180\n",
    "#env.x_threshold = 5\n",
    "init = env.reset()\n",
    "\n",
    "\n",
    "# Set up using initial values given, and choose N\n",
    "M, m = 1., .1\n",
    "l = 1.\n",
    "q1, q2, q3, q4, = 1, 1, 1, 1\n",
    "r = 10.\n",
    "tf1 = 6\n",
    "tf2 = 20\n",
    "N = 1001\n",
    "X0 = np.array(init)\n",
    "A,B,Q,R = linearized_init(M, m, l, q1, q2, q3, q4, r)\n",
    "\n",
    "\n",
    "# Solve the problem using our own P that may be unstable\n",
    "P = find_P(A,B,Q,R)\n",
    "ts = np.linspace(0,tf1,N)\n",
    "Z, U = rickshaw(ts, X0, A, B, Q, R, P)\n",
    "\n",
    "# Solve the problem to get a \"good\" P value\n",
    "sp_P = linalg.solve_continuous_are(A,B,Q,R)\n",
    "sp_ts = np.linspace(0,tf2,N)\n",
    "spZ, spU = rickshaw(sp_ts, X0, A, B, Q, R, sp_P)"
   ]
  },
  {
   "cell_type": "code",
   "execution_count": 9,
   "metadata": {},
   "outputs": [
    {
     "name": "stdout",
     "output_type": "stream",
     "text": [
      "Thresh: 5 0.7853981633974483\n",
      "Thresh: 5 0.7853981633974483\n",
      "Thresh: 5 0.7853981633974483\n",
      "Thresh: 5 0.7853981633974483\n",
      "Thresh: 5 0.7853981633974483\n",
      "Thresh: 5 0.7853981633974483\n",
      "Thresh: 5 0.7853981633974483\n",
      "Thresh: 5 0.7853981633974483\n",
      "Thresh: 5 0.7853981633974483\n",
      "Thresh: 5 0.7853981633974483\n",
      "Thresh: 5 0.7853981633974483\n",
      "Thresh: 5 0.7853981633974483\n",
      "Thresh: 5 0.7853981633974483\n",
      "Thresh: 5 0.7853981633974483\n",
      "Thresh: 5 0.7853981633974483\n",
      "Thresh: 5 0.7853981633974483\n",
      "Thresh: 5 0.7853981633974483\n",
      "Thresh: 5 0.7853981633974483\n",
      "Thresh: 5 0.7853981633974483\n",
      "Thresh: 5 0.7853981633974483\n",
      "We are done, we fell at 19\n"
     ]
    }
   ],
   "source": [
    "gym_obs = np.zeros_like(spZ)\n",
    "gym_obs[0] = init\n",
    "for i in range(spU.shape[0]):\n",
    "    obs, rew, done, inf = env.step(0,i)\n",
    "    gym_obs[i+1] = obs\n",
    "    if done is True:\n",
    "        print(\"We are done, we fell at\", i)\n",
    "        break"
   ]
  },
  {
   "cell_type": "code",
   "execution_count": 18,
   "metadata": {},
   "outputs": [
    {
     "name": "stdout",
     "output_type": "stream",
     "text": [
      "[[  3.07390436e-02   1.45000720e-03  -3.08881849e-02  -3.13125218e-02]\n",
      " [  3.07680437e-02   1.89264683e-03  -3.15144353e-02  -4.10558470e-02]\n",
      " [  3.08058967e-02   2.18550039e-02  -3.23355523e-02  -8.02482248e-02]\n",
      " [  3.12429967e-02   6.13395872e-02  -3.39405168e-02  -1.48949135e-01]\n",
      " [  3.24697885e-02   1.20356848e-01  -3.69194995e-02  -2.47400639e-01]\n",
      " [  3.48769254e-02   1.98924591e-01  -4.18675122e-02  -3.76023810e-01]\n",
      " [  3.88554173e-02   2.97066952e-01  -4.93879884e-02  -5.35413799e-01]\n",
      " [  4.47967563e-02   4.14812463e-01  -6.00962644e-02  -7.26330875e-01]\n",
      " [  5.30930056e-02   5.52190452e-01  -7.46228819e-02  -9.49683526e-01]\n",
      " [  6.41368146e-02   7.09224780e-01  -9.36165524e-02  -1.20649825e+00]\n",
      " [  7.83213102e-02   8.85923568e-01  -1.17746517e-01  -1.49786891e+00]\n",
      " [  9.60397816e-02   1.08226321e+00  -1.47703896e-01  -1.82487671e+00]\n",
      " [  1.17685046e-01   1.29816469e+00  -1.84201430e-01  -2.18846990e+00]\n",
      " [  1.43648340e-01   1.53345997e+00  -2.27970828e-01  -2.58929152e+00]\n",
      " [  1.74317539e-01   1.78784686e+00  -2.79756658e-01  -3.02744361e+00]\n",
      " [  2.10074476e-01   2.06083166e+00  -3.40305530e-01  -3.50218123e+00]\n",
      " [  2.51291109e-01   2.35166216e+00  -4.10349155e-01  -4.01153936e+00]\n",
      " [  2.98324352e-01   2.65925849e+00  -4.90579942e-01  -4.55191491e+00]\n",
      " [  3.51509522e-01   2.98215743e+00  -5.81618240e-01  -5.11765358e+00]\n",
      " [  4.11152671e-01   3.31849519e+00  -6.83971312e-01  -5.70072335e+00]\n",
      " [  4.77522574e-01   3.66606251e+00  -7.97985779e-01  -6.29057814e+00]]\n"
     ]
    }
   ],
   "source": [
    "print(gym_obs[:21])"
   ]
  },
  {
   "cell_type": "code",
   "execution_count": 11,
   "metadata": {},
   "outputs": [
    {
     "data": {
      "text/plain": [
       "0.02"
      ]
     },
     "execution_count": 11,
     "metadata": {},
     "output_type": "execute_result"
    }
   ],
   "source": [
    "sp_ts[1] - sp_ts[0]"
   ]
  },
  {
   "cell_type": "code",
   "execution_count": 12,
   "metadata": {},
   "outputs": [
    {
     "data": {
      "text/plain": [
       "array([ 0.03073904,  0.03098112,  0.03162555,  0.0326385 ,  0.03398842,\n",
       "        0.03564597,  0.03758381,  0.03977648,  0.04220029,  0.04483319])"
      ]
     },
     "execution_count": 12,
     "metadata": {},
     "output_type": "execute_result"
    }
   ],
   "source": [
    "spZ[:,0][:10]"
   ]
  },
  {
   "cell_type": "code",
   "execution_count": 13,
   "metadata": {},
   "outputs": [
    {
     "data": {
      "text/plain": [
       "array([ 0.00145001,  0.02245483,  0.04170655,  0.05932524,  0.07542301,\n",
       "        0.09010445,  0.10346718,  0.11560235,  0.12659497,  0.1365244 ])"
      ]
     },
     "execution_count": 13,
     "metadata": {},
     "output_type": "execute_result"
    }
   ],
   "source": [
    "spZ[:,1][:10]"
   ]
  },
  {
   "cell_type": "code",
   "execution_count": 14,
   "metadata": {},
   "outputs": [
    {
     "data": {
      "text/plain": [
       "array([-0.03088818, -0.03136226, -0.03155682, -0.0315065 , -0.03124264,\n",
       "       -0.03079355, -0.03018484, -0.02943958, -0.02857854, -0.0276204 ])"
      ]
     },
     "execution_count": 14,
     "metadata": {},
     "output_type": "execute_result"
    }
   ],
   "source": [
    "spZ[:,2][:10]"
   ]
  },
  {
   "cell_type": "code",
   "execution_count": 15,
   "metadata": {},
   "outputs": [
    {
     "data": {
      "text/plain": [
       "array([-0.03131252, -0.01641311, -0.00333174,  0.00810301,  0.01804813,\n",
       "        0.02664721,  0.03403164,  0.04032157,  0.04562668,  0.05004717])"
      ]
     },
     "execution_count": 15,
     "metadata": {},
     "output_type": "execute_result"
    }
   ],
   "source": [
    "spZ[:,3][:10]"
   ]
  },
  {
   "cell_type": "code",
   "execution_count": 16,
   "metadata": {},
   "outputs": [
    {
     "data": {
      "text/plain": [
       "array([ 1.12644762,  1.03611303,  0.95171921,  0.87288558,  0.79925584,\n",
       "        0.73049661,  0.66629584,  0.6063613 ,  0.55041968,  0.49821504,\n",
       "        0.44950786,  0.40407393,  0.3617034 ,  0.32219984,  0.28537937])"
      ]
     },
     "execution_count": 16,
     "metadata": {},
     "output_type": "execute_result"
    }
   ],
   "source": [
    "spU[:15]"
   ]
  },
  {
   "cell_type": "code",
   "execution_count": 17,
   "metadata": {},
   "outputs": [
    {
     "data": {
      "image/png": "[encoded data removed]",
      "text/plain": [
       "<matplotlib.figure.Figure at 0x1dabc423390>"
      ]
     },
     "metadata": {},
     "output_type": "display_data"
    }
   ],
   "source": [
    "# Plot our solutions to see instability\n",
    "fig, ax = plt.subplots(ncols=2, figsize=(12,8))\n",
    "titles = [\"scipy.optimize.root\", \"solve_continuous_are\"]\n",
    "for a,z,u,t,title in zip(ax, [Z,spZ], [U,spU], [ts,sp_ts], titles):\n",
    "    a.plot(t,z[:,0], label=\"x\")\n",
    "    a.plot(t,z[:,1], label=r\"$\\dot{x}$\")\n",
    "    a.plot(t,z[:,2], label=r\"$\\theta$\")\n",
    "    a.plot(t,z[:,3], label=r\"$\\dot{\\theta}$\")\n",
    "    a.plot(t,u, label=\"u\")\n",
    "    a.legend(loc='best')\n",
    "    a.set_title(title)\n",
    "ax[1].set_ylim(-6,6)\n",
    "ax[1].set_xlim(0,tf2)\n",
    "ax[0].set_xlim(0,tf1)\n",
    "ax[0].set_ylim(-60,20)\n",
    "plt.show()"
   ]
  },
  {
   "cell_type": "markdown",
   "metadata": {},
   "source": [
    "If you run the first one for longer time you see the solutions continue to explode out towards +/- infinity"
   ]
  }
 ],
 "metadata": {
  "kernelspec": {
   "display_name": "Python 3",
   "language": "python",
   "name": "python3"
  },
  "language_info": {
   "codemirror_mode": {
    "name": "ipython",
    "version": 3
   },
   "file_extension": ".py",
   "mimetype": "text/x-python",
   "name": "python",
   "nbconvert_exporter": "python",
   "pygments_lexer": "ipython3",
   "version": "3.6.3"
  }
 },
 "nbformat": 4,
 "nbformat_minor": 2
}
