{
 "cells": [
  {
   "cell_type": "markdown",
   "metadata": {},
   "source": [
    "Example file meant to illustrate a basic use case for one of the Environments in ACME Gym."
   ]
  },
  {
   "cell_type": "code",
   "execution_count": null,
   "metadata": {
    "collapsed": true
   },
   "outputs": [],
   "source": [
    "import numpy as np\n",
    "\n",
    "import gym\n",
    "import acme_gym"
   ]
  },
  {
   "cell_type": "code",
   "execution_count": null,
   "metadata": {
    "collapsed": true
   },
   "outputs": [],
   "source": [
    "def determine_step_size(mode, i, threshold=20):\n",
    "    \"\"\"\n",
    "    A helper function that determines the next action to take based on the designated mode.\n",
    "    \n",
    "    Parameters\n",
    "    ----------\n",
    "    mode (int)\n",
    "        Determines which option to choose.\n",
    "    i (int)\n",
    "        the current step number.\n",
    "    threshold (float)\n",
    "        The upper end of our control.\n",
    "    \n",
    "    Returns\n",
    "    -------\n",
    "    decision (float)\n",
    "        The value to push/pull the cart by, positive values push to the right.\n",
    "    \"\"\"\n",
    "    if mode == 1:\n",
    "        return 0\n",
    "    if mode == 2:\n",
    "        return np.random.uniform(low=-threshold, high=threshold)\n",
    "    if mode == 3:\n",
    "        side = -1 if i%2 == 0 else 1\n",
    "        return threshold*side\n",
    "    if mode == 4:\n",
    "        inp_str = \"Enter a float value from -{} to {}:\\n\".format(threshold, threshold)\n",
    "        return float(input(inp_str))"
   ]
  },
  {
   "cell_type": "code",
   "execution_count": null,
   "metadata": {
    "collapsed": true
   },
   "outputs": [],
   "source": [
    "def run_gym_example():\n",
    "    \"\"\"\n",
    "    Implement as a function so that we can properly exit early if needed\n",
    "    without crashing our Kernel\n",
    "    \"\"\"\n",
    "    input_str = \"\"\"Enter one of the following commands:\n",
    "    1) Do no action, ever\n",
    "    2) Choose the direction randomly\n",
    "    3) Alternate between left and right\n",
    "    4) Pick the direction at each state\n",
    "    5) Terminate\n",
    "    \"\"\"\n",
    "    mode = int(input(input_str))\n",
    "    if mode == 5:\n",
    "        return\n",
    "\n",
    "    env = gym.make('CartPoleContinuous-v0')\n",
    "    T = round(6/0.02)\n",
    "    # Initial state is drawn randomly, let the user pick a good starting point\n",
    "    init_state = True\n",
    "    while init_state:\n",
    "        obs = env.reset()\n",
    "        env.render()\n",
    "        print(\"X: {}, X': {}, θ: {}, θ': {}\".format(obs[0], obs[1], obs[2], obs[3]))\n",
    "        init_state = input(\"Enter to begin simulation, anything else to pick new starting values:\\n\")\n",
    "\n",
    "    for i in range(T):\n",
    "        # Determine the step size based on our mode\n",
    "        step = np.array([determine_step_size(mode,i)])\n",
    "\n",
    "        # Step in designated direction and update the visual\n",
    "        obs, reward, state, info = env.step(step)\n",
    "        env.render()\n",
    "        if mode == 4:\n",
    "            exit = input(\"Enter q to exit, all else continues\")\n",
    "            if exit == 'q':\n",
    "                env.close()\n",
    "                return\n",
    "\n",
    "    input(\"Enter any key to exit:\")\n",
    "    env.close()"
   ]
  },
  {
   "cell_type": "code",
   "execution_count": null,
   "metadata": {},
   "outputs": [],
   "source": [
    "# WARNING! The pop up for rendering may not appear on the front of your screen\n",
    "# check and see if it appeared underneath your files\n",
    "run_gym_example()"
   ]
  }
 ],
 "metadata": {
  "kernelspec": {
   "display_name": "Python 3",
   "language": "python",
   "name": "python3"
  },
  "language_info": {
   "codemirror_mode": {
    "name": "ipython",
    "version": 3
   },
   "file_extension": ".py",
   "mimetype": "text/x-python",
   "name": "python",
   "nbconvert_exporter": "python",
   "pygments_lexer": "ipython3",
   "version": "3.6.3"
  }
 },
 "nbformat": 4,
 "nbformat_minor": 2
}
