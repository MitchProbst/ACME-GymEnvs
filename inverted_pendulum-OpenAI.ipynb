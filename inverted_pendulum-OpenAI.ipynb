{
 "cells": [
  {
   "cell_type": "markdown",
   "metadata": {},
   "source": [
    "    Mitchell Probst\n",
    "    Math 439\n",
    "    Inverted Pendulum"
   ]
  },
  {
   "cell_type": "code",
   "execution_count": null,
   "metadata": {},
   "outputs": [],
   "source": [
    "import numpy as np\n",
    "\n",
    "import gym\n",
    "import acme_gym\n",
    "import time\n",
    "\n",
    "from matplotlib import pyplot as plt\n",
    "from scipy.optimize import root\n",
    "from scipy import linalg\n",
    "from scipy.integrate import odeint"
   ]
  },
  {
   "cell_type": "markdown",
   "metadata": {},
   "source": [
    "# Problem 1"
   ]
  },
  {
   "cell_type": "code",
   "execution_count": null,
   "metadata": {
    "collapsed": true
   },
   "outputs": [],
   "source": [
    "g = 9.8\n",
    "\n",
    "def linearized_init(M, m, l, q1, q2, q3, q4, r):\n",
    "    \"\"\"\n",
    "    Parameters\n",
    "    ----------\n",
    "    M, m: floats\n",
    "        masses of the rickshaw and the present\n",
    "    l   : float\n",
    "        length of the rod\n",
    "    q1, q2, q3, q4, r : floats\n",
    "        relative weights of the position and velocity of the rickshaw, the\n",
    "        angular displacement theta and the change in theta, and the control\n",
    "        \n",
    "    Return\n",
    "    ------\n",
    "    A : ndarray of shape (4,4)\n",
    "    B : ndarray of shape (4,1)\n",
    "    Q : ndarray of shape (4,4)\n",
    "    R : ndarray of shape (1,1)\n",
    "    \"\"\"\n",
    "#     A = np.zeros((4,4))\n",
    "#     A[0,1] = 1\n",
    "#     A[1,2] = m*g/M\n",
    "#     A[2,3] = 1\n",
    "#     A[3,2] = g/(M*l)*(M + m)\n",
    "    \n",
    "#     B = np.zeros((4,1))\n",
    "#     B[1] = 1/M\n",
    "#     B[3] = 1/(M*l)\n",
    "\n",
    "    A = np.zeros((4,4))\n",
    "    A[1,2] = -12*m*g/(13*M + m)\n",
    "    A[0,1] = 1\n",
    "    A[2,3] = 1\n",
    "    A[3,2] = 12*(m*g + M*g)/(l*(13*M + m))\n",
    "    \n",
    "    B = np.zeros((4,1))\n",
    "    B[1] = 13/(13*M + m)\n",
    "    B[3] = -12/(l*(13*M + m))\n",
    "    \n",
    "    #B[1] = (1 - m/(1/3 * (4*M + m)))/(M + m)\n",
    "    #B[3] = -1 / (l/3 * (4*M + m))\n",
    "    \n",
    "    Q = np.diag([q1, q2, q3, q4])\n",
    "    \n",
    "    R = np.ones(1)*r\n",
    "    \n",
    "    return A,B,Q,R"
   ]
  },
  {
   "cell_type": "markdown",
   "metadata": {},
   "source": [
    "# Problem 2"
   ]
  },
  {
   "cell_type": "code",
   "execution_count": null,
   "metadata": {
    "collapsed": true
   },
   "outputs": [],
   "source": [
    "def find_P(A, B, Q, R):\n",
    "    \"\"\"\n",
    "    Find P where P is in terms of the Riccati equation\n",
    "    \n",
    "    Parameters\n",
    "    ----------\n",
    "    A : ndarray of shape (4,4)\n",
    "    B : ndarray of shape (4,1)\n",
    "    Q : ndarray of shape (4,4)\n",
    "    R : ndarray of shape (1,1)\n",
    "    \n",
    "    Returns\n",
    "    -------\n",
    "    P : Matrix soloution of the Riccati equation\n",
    "    \"\"\"\n",
    "    def root_func(p):\n",
    "        \"\"\"\n",
    "        Gets passed a vector of ps\n",
    "        \"\"\"\n",
    "        P = np.reshape(p, (4,4))\n",
    "        return np.reshape(P @ A + A.T @ P + Q - 1/R * (P @ B @ B.T @ P), -1)\n",
    "    \n",
    "    # Initial Guess for P\n",
    "    P = np.ones(16)\n",
    "    P = root(root_func, P)\n",
    "    return np.reshape(P.x, (4,4))"
   ]
  },
  {
   "cell_type": "code",
   "execution_count": null,
   "metadata": {},
   "outputs": [],
   "source": [
    "# Mass of cart and masspole\n",
    "M, m = 1, .1\n",
    "l = 4.\n",
    "# These represent weights on x, x', theta, theta prime.\n",
    "# We WANT theta to be 0, so give that higher weight\n",
    "q1, q2, q3, q4 = 1., 1., 10., 1.\n",
    "r = 10.\n",
    "A,B,Q,R = linearized_init(M, m, l, q1, q2, q3, q4, r)\n",
    "P = find_P(A,B,Q,R)\n",
    "P"
   ]
  },
  {
   "cell_type": "code",
   "execution_count": null,
   "metadata": {},
   "outputs": [],
   "source": [
    "result = A - 1/R[0] * B @ B.T @ P\n",
    "eigs = np.linalg.eig(result)\n",
    "eigs[0]"
   ]
  },
  {
   "cell_type": "markdown",
   "metadata": {},
   "source": [
    "We see that we have one real eigenvalue, which indicates this problem might be unstable!"
   ]
  },
  {
   "cell_type": "code",
   "execution_count": null,
   "metadata": {},
   "outputs": [],
   "source": [
    "newP = linalg.solve_continuous_are(A,B,Q,R)\n",
    "result = A - 1/R[0] * B @ B.T @ newP\n",
    "eigs = np.linalg.eig(result)\n",
    "eigs[0]"
   ]
  },
  {
   "cell_type": "markdown",
   "metadata": {},
   "source": [
    "Using this fancy method, we see that all of our eigenvalues are negative"
   ]
  },
  {
   "cell_type": "markdown",
   "metadata": {},
   "source": [
    "# Problem 3"
   ]
  },
  {
   "cell_type": "code",
   "execution_count": null,
   "metadata": {
    "collapsed": true
   },
   "outputs": [],
   "source": [
    "def rickshaw(tv, X0, A, B, Q, R, P):\n",
    "    '''\n",
    "    Parameters:\n",
    "    ----------\n",
    "    tv  : ndarray of time values, with shape (n+1,)\n",
    "    X0  : Initial conditions on state variables\n",
    "    A, Q: ndarrays of shape (4,4)\n",
    "    B   : ndarray of shape (4,1)\n",
    "    R   : ndarray of shape (1,1)\n",
    "    P   : ndarray of shape (4,4)\n",
    "    Returns\n",
    "    -------\n",
    "    Z : ndarray of shape (n+1,4), the state vector at each time\n",
    "    U : ndarray of shape (n+1,), the control values\n",
    "    '''\n",
    "    n = np.shape(tv)[0]\n",
    "    Z = np.zeros((n, 4))\n",
    "    U = np.zeros((n))\n",
    "    \n",
    "    def find_z(z, t):\n",
    "        return (A - 1/R * B @ B.T @ P) @ z\n",
    "\n",
    "    Z = odeint(find_z, X0, tv)\n",
    "    for t in range(n):\n",
    "        U[t] = -1/R * B.T @ P @ Z[t]\n",
    "        \n",
    "    return Z, U"
   ]
  },
  {
   "cell_type": "markdown",
   "metadata": {},
   "source": [
    "# Problem 4"
   ]
  },
  {
   "cell_type": "code",
   "execution_count": null,
   "metadata": {},
   "outputs": [],
   "source": [
    "env = gym.make('CartPoleContinuous-v0')\n",
    "#env.seed(1)\n",
    "#env.theta_threshold_radians = 45 * np.pi / 180\n",
    "#env.x_threshold = 5\n",
    "obs = env.reset()\n",
    "\n",
    "\n",
    "# Set up using initial values given, and choose N\n",
    "M, m = 1., .1\n",
    "l = 1.\n",
    "q1, q2, q3, q4, = 1, 1, 10, 1\n",
    "r = 10.\n",
    "\n",
    "N = 100\n",
    "tf = .02*N\n",
    "\n",
    "A,B,Q,R = linearized_init(M, m, l, q1, q2, q3, q4, r)\n",
    "P = linalg.solve_continuous_are(A,B,Q,R)\n",
    "ts = np.linspace(0,tf,N+1)\n",
    "Z, U = rickshaw(ts, obs, A, B, Q, R, P)"
   ]
  },
  {
   "cell_type": "code",
   "execution_count": null,
   "metadata": {},
   "outputs": [],
   "source": [
    "obs, ts[:5], U[:5]"
   ]
  },
  {
   "cell_type": "code",
   "execution_count": null,
   "metadata": {
    "collapsed": true
   },
   "outputs": [],
   "source": [
    "array([-0.02895248,  0.02119629,  0.00193978, -0.0246696 ]"
   ]
  },
  {
   "cell_type": "code",
   "execution_count": null,
   "metadata": {},
   "outputs": [],
   "source": [
    "U[:10]"
   ]
  },
  {
   "cell_type": "code",
   "execution_count": null,
   "metadata": {
    "collapsed": true
   },
   "outputs": [],
   "source": [
    "obs = env.reset()\n",
    "N = 20\n",
    "for i in range(N):\n",
    "    #solve the problem\n",
    "    Z, U = rickshaw(ts, obs, A, B, Q, R, P)\n",
    "    for u in U[:10]:\n",
    "        obs, rew, done, info = env.step(np.array([u]))\n",
    "        env.render()\n",
    "env.close()\n",
    "env = gym.make('CartPoleContinuous-v0')\n",
    "# while True:\n",
    "#     step = spU[i]\n",
    "#     time.sleep(.002)\n",
    "#     i += 1\n",
    "#     j += 1\n",
    "#     if end is True:\n",
    "#         step = 0.1\n",
    "#     obs, rew, done, inf = env.step(np.array([step]))\n",
    "#     gym_obs[j] = obs\n",
    "#     env.render()\n",
    "#     if done is True:\n",
    "#         print(\"It went this many frames\", j)\n",
    "#         print(\"We are trying to end:\", end)\n",
    "#         q = input(\"Pause\")\n",
    "#         if q == 'q':\n",
    "#             break\n",
    "#         print(\"We are done, we fell at\", i)\n",
    "        \n",
    "#     if i % 10 == 0:\n",
    "#         sp_P = linalg.solve_continuous_are(A,B,Q,R)\n",
    "#         sp_ts = np.linspace(0,tf2,N)\n",
    "#         spZ, spU = rickshaw(sp_ts, obs, A, B, Q, R, sp_P)\n",
    "#         i = 0\n",
    "#         #q = input(\"Quit with 'q', all else continues\")\n",
    "#         #if q == 'q':\n",
    "#         #    break\n",
    "#     if j >= 50000:\n",
    "#         #q = input(\"Quit with 'q', all else continues\")\n",
    "#         end = True\n",
    "#         #if q == 'q':\n",
    "#         #    break\n",
    "#     if done is True:\n",
    "#         q = input(\"Quit with 'q', all else continues\")\n",
    "#         if q == 'q':\n",
    "#             break\n",
    "# env.close()\n",
    "# env = gym.make('CartPoleContinuous-v0')"
   ]
  },
  {
   "cell_type": "code",
   "execution_count": null,
   "metadata": {},
   "outputs": [],
   "source": [
    "env2 = gym.make('CartPoleContinuous-v0')\n",
    "#env.seed(1)\n",
    "#env.theta_threshold_radians = 45 * np.pi / 180\n",
    "#env.x_threshold = 5\n",
    "init2 = env2.reset()\n",
    "\n",
    "\n",
    "# Set up using initial values given, and choose N\n",
    "M, m = 1., .1\n",
    "l = 1.\n",
    "q1, q2, q3, q4, = 1, 1, 10, 1\n",
    "r = 10.\n",
    "\n",
    "M = 100\n",
    "tf2 = .02*M\n",
    "\n",
    "A2,B2,Q2,R2 = linearized_init(M, m, l, q1, q2, q3, q4, r)\n",
    "P2 = linalg.solve_continuous_are(A2,B2,Q2,R2)\n",
    "ts2 = np.linspace(0,tf2,M+1)\n",
    "Z2, U2 = rickshaw(ts2, init2, A2, B2, Q2, R2, P2)"
   ]
  },
  {
   "cell_type": "code",
   "execution_count": null,
   "metadata": {},
   "outputs": [],
   "source": [
    "init2, ts2[:5], U2[:5]"
   ]
  },
  {
   "cell_type": "code",
   "execution_count": null,
   "metadata": {},
   "outputs": [],
   "source": [
    "obs"
   ]
  },
  {
   "cell_type": "code",
   "execution_count": null,
   "metadata": {},
   "outputs": [],
   "source": [
    "U[:10]"
   ]
  },
  {
   "cell_type": "code",
   "execution_count": null,
   "metadata": {},
   "outputs": [],
   "source": [
    "obs = env.reset()\n",
    "N = 20\n",
    "for i in range(N):\n",
    "    #solve the problem\n",
    "    print(\"Solving for the {}th time\".format(i))\n",
    "    Z, U = rickshaw(ts, obs, A, B, Q, R, P)\n",
    "    for u in U[:10]:\n",
    "        obs, rew, done, info = env.step(np.array([u]))\n",
    "        env.render()\n",
    "env.close()\n",
    "env = gym.make('CartPoleContinuous-v0')"
   ]
  },
  {
   "cell_type": "code",
   "execution_count": null,
   "metadata": {},
   "outputs": [],
   "source": [
    "# Plot our solutions to see instability\n",
    "fig, ax = plt.subplots(ncols=2, figsize=(12,8))\n",
    "titles = [\"scipy.optimize.root\", \"solve_continuous_are\"]\n",
    "for a,z,u,t,title in zip(ax, [Z,spZ], [U,spU], [ts,sp_ts], titles):\n",
    "    a.plot(t,z[:,0], label=\"x\")\n",
    "    a.plot(t,z[:,1], label=r\"$\\dot{x}$\")\n",
    "    a.plot(t,z[:,2], label=r\"$\\theta$\")\n",
    "    a.plot(t,z[:,3], label=r\"$\\dot{\\theta}$\")\n",
    "    a.plot(t,u, label=\"u\")\n",
    "    a.legend(loc='best')\n",
    "    a.set_title(title)\n",
    "ax[1].set_ylim(-6,6)\n",
    "ax[1].set_xlim(0,tf2)\n",
    "ax[0].set_xlim(0,tf1)\n",
    "ax[0].set_ylim(-60,20)\n",
    "plt.show()"
   ]
  },
  {
   "cell_type": "markdown",
   "metadata": {},
   "source": [
    "If you run the first one for longer time you see the solutions continue to explode out towards +/- infinity"
   ]
  }
 ],
 "metadata": {
  "kernelspec": {
   "display_name": "Python 3",
   "language": "python",
   "name": "python3"
  },
  "language_info": {
   "codemirror_mode": {
    "name": "ipython",
    "version": 3
   },
   "file_extension": ".py",
   "mimetype": "text/x-python",
   "name": "python",
   "nbconvert_exporter": "python",
   "pygments_lexer": "ipython3",
   "version": "3.6.3"
  }
 },
 "nbformat": 4,
 "nbformat_minor": 2
}
